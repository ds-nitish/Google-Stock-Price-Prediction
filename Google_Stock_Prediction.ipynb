{
  "nbformat": 4,
  "nbformat_minor": 0,
  "metadata": {
    "colab": {
      "provenance": [],
      "gpuType": "T4"
    },
    "kernelspec": {
      "name": "python3",
      "display_name": "Python 3"
    },
    "language_info": {
      "name": "python"
    },
    "accelerator": "GPU"
  },
  "cells": [
    {
      "cell_type": "markdown",
      "source": [
        "# Univariate Time Series Prediction"
      ],
      "metadata": {
        "id": "wGqiw8iXNacj"
      }
    },
    {
      "cell_type": "code",
      "execution_count": 100,
      "metadata": {
        "id": "-_AhVZ4UpVhH"
      },
      "outputs": [],
      "source": [
        "import pandas as pd            ## importing packages\n",
        "import numpy as np\n",
        "import matplotlib.pyplot as plt\n",
        "import seaborn as sns\n",
        "import tensorflow.keras as keras\n",
        "from keras.layers import LSTM , Dense , Dropout , Bidirectional\n",
        "from keras.models import Sequential\n",
        "from sklearn.preprocessing import MinMaxScaler"
      ]
    },
    {
      "cell_type": "code",
      "source": [
        "df = pd.read_csv('/content/Google.csv')  ## Importing Data"
      ],
      "metadata": {
        "id": "3r0Q0ZbYqQgy"
      },
      "execution_count": 101,
      "outputs": []
    },
    {
      "cell_type": "code",
      "source": [
        "df.head()"
      ],
      "metadata": {
        "colab": {
          "base_uri": "https://localhost:8080/",
          "height": 206
        },
        "id": "iehZEy0gqXQw",
        "outputId": "c2f7caa3-8a38-4109-9652-6ca72979504b"
      },
      "execution_count": 102,
      "outputs": [
        {
          "output_type": "execute_result",
          "data": {
            "text/plain": [
              "       Open      High       Low     Close  Adj Close     Volume        Date\n",
              "0  2.490664  2.591785  2.390042  2.499133   2.499133  897427216  2004-08-19\n",
              "1  2.515820  2.716817  2.503118  2.697639   2.697639  458857488  2004-08-20\n",
              "2  2.758411  2.826406  2.716070  2.724787   2.724787  366857939  2004-08-23\n",
              "3  2.770615  2.779581  2.579581  2.611960   2.611960  306396159  2004-08-24\n",
              "4  2.614201  2.689918  2.587302  2.640104   2.640104  184645512  2004-08-25"
            ],
            "text/html": [
              "\n",
              "  <div id=\"df-a791d416-1ab6-4ab5-9fe6-d1fc791b5b82\">\n",
              "    <div class=\"colab-df-container\">\n",
              "      <div>\n",
              "<style scoped>\n",
              "    .dataframe tbody tr th:only-of-type {\n",
              "        vertical-align: middle;\n",
              "    }\n",
              "\n",
              "    .dataframe tbody tr th {\n",
              "        vertical-align: top;\n",
              "    }\n",
              "\n",
              "    .dataframe thead th {\n",
              "        text-align: right;\n",
              "    }\n",
              "</style>\n",
              "<table border=\"1\" class=\"dataframe\">\n",
              "  <thead>\n",
              "    <tr style=\"text-align: right;\">\n",
              "      <th></th>\n",
              "      <th>Open</th>\n",
              "      <th>High</th>\n",
              "      <th>Low</th>\n",
              "      <th>Close</th>\n",
              "      <th>Adj Close</th>\n",
              "      <th>Volume</th>\n",
              "      <th>Date</th>\n",
              "    </tr>\n",
              "  </thead>\n",
              "  <tbody>\n",
              "    <tr>\n",
              "      <th>0</th>\n",
              "      <td>2.490664</td>\n",
              "      <td>2.591785</td>\n",
              "      <td>2.390042</td>\n",
              "      <td>2.499133</td>\n",
              "      <td>2.499133</td>\n",
              "      <td>897427216</td>\n",
              "      <td>2004-08-19</td>\n",
              "    </tr>\n",
              "    <tr>\n",
              "      <th>1</th>\n",
              "      <td>2.515820</td>\n",
              "      <td>2.716817</td>\n",
              "      <td>2.503118</td>\n",
              "      <td>2.697639</td>\n",
              "      <td>2.697639</td>\n",
              "      <td>458857488</td>\n",
              "      <td>2004-08-20</td>\n",
              "    </tr>\n",
              "    <tr>\n",
              "      <th>2</th>\n",
              "      <td>2.758411</td>\n",
              "      <td>2.826406</td>\n",
              "      <td>2.716070</td>\n",
              "      <td>2.724787</td>\n",
              "      <td>2.724787</td>\n",
              "      <td>366857939</td>\n",
              "      <td>2004-08-23</td>\n",
              "    </tr>\n",
              "    <tr>\n",
              "      <th>3</th>\n",
              "      <td>2.770615</td>\n",
              "      <td>2.779581</td>\n",
              "      <td>2.579581</td>\n",
              "      <td>2.611960</td>\n",
              "      <td>2.611960</td>\n",
              "      <td>306396159</td>\n",
              "      <td>2004-08-24</td>\n",
              "    </tr>\n",
              "    <tr>\n",
              "      <th>4</th>\n",
              "      <td>2.614201</td>\n",
              "      <td>2.689918</td>\n",
              "      <td>2.587302</td>\n",
              "      <td>2.640104</td>\n",
              "      <td>2.640104</td>\n",
              "      <td>184645512</td>\n",
              "      <td>2004-08-25</td>\n",
              "    </tr>\n",
              "  </tbody>\n",
              "</table>\n",
              "</div>\n",
              "      <button class=\"colab-df-convert\" onclick=\"convertToInteractive('df-a791d416-1ab6-4ab5-9fe6-d1fc791b5b82')\"\n",
              "              title=\"Convert this dataframe to an interactive table.\"\n",
              "              style=\"display:none;\">\n",
              "        \n",
              "  <svg xmlns=\"http://www.w3.org/2000/svg\" height=\"24px\"viewBox=\"0 0 24 24\"\n",
              "       width=\"24px\">\n",
              "    <path d=\"M0 0h24v24H0V0z\" fill=\"none\"/>\n",
              "    <path d=\"M18.56 5.44l.94 2.06.94-2.06 2.06-.94-2.06-.94-.94-2.06-.94 2.06-2.06.94zm-11 1L8.5 8.5l.94-2.06 2.06-.94-2.06-.94L8.5 2.5l-.94 2.06-2.06.94zm10 10l.94 2.06.94-2.06 2.06-.94-2.06-.94-.94-2.06-.94 2.06-2.06.94z\"/><path d=\"M17.41 7.96l-1.37-1.37c-.4-.4-.92-.59-1.43-.59-.52 0-1.04.2-1.43.59L10.3 9.45l-7.72 7.72c-.78.78-.78 2.05 0 2.83L4 21.41c.39.39.9.59 1.41.59.51 0 1.02-.2 1.41-.59l7.78-7.78 2.81-2.81c.8-.78.8-2.07 0-2.86zM5.41 20L4 18.59l7.72-7.72 1.47 1.35L5.41 20z\"/>\n",
              "  </svg>\n",
              "      </button>\n",
              "      \n",
              "  <style>\n",
              "    .colab-df-container {\n",
              "      display:flex;\n",
              "      flex-wrap:wrap;\n",
              "      gap: 12px;\n",
              "    }\n",
              "\n",
              "    .colab-df-convert {\n",
              "      background-color: #E8F0FE;\n",
              "      border: none;\n",
              "      border-radius: 50%;\n",
              "      cursor: pointer;\n",
              "      display: none;\n",
              "      fill: #1967D2;\n",
              "      height: 32px;\n",
              "      padding: 0 0 0 0;\n",
              "      width: 32px;\n",
              "    }\n",
              "\n",
              "    .colab-df-convert:hover {\n",
              "      background-color: #E2EBFA;\n",
              "      box-shadow: 0px 1px 2px rgba(60, 64, 67, 0.3), 0px 1px 3px 1px rgba(60, 64, 67, 0.15);\n",
              "      fill: #174EA6;\n",
              "    }\n",
              "\n",
              "    [theme=dark] .colab-df-convert {\n",
              "      background-color: #3B4455;\n",
              "      fill: #D2E3FC;\n",
              "    }\n",
              "\n",
              "    [theme=dark] .colab-df-convert:hover {\n",
              "      background-color: #434B5C;\n",
              "      box-shadow: 0px 1px 3px 1px rgba(0, 0, 0, 0.15);\n",
              "      filter: drop-shadow(0px 1px 2px rgba(0, 0, 0, 0.3));\n",
              "      fill: #FFFFFF;\n",
              "    }\n",
              "  </style>\n",
              "\n",
              "      <script>\n",
              "        const buttonEl =\n",
              "          document.querySelector('#df-a791d416-1ab6-4ab5-9fe6-d1fc791b5b82 button.colab-df-convert');\n",
              "        buttonEl.style.display =\n",
              "          google.colab.kernel.accessAllowed ? 'block' : 'none';\n",
              "\n",
              "        async function convertToInteractive(key) {\n",
              "          const element = document.querySelector('#df-a791d416-1ab6-4ab5-9fe6-d1fc791b5b82');\n",
              "          const dataTable =\n",
              "            await google.colab.kernel.invokeFunction('convertToInteractive',\n",
              "                                                     [key], {});\n",
              "          if (!dataTable) return;\n",
              "\n",
              "          const docLinkHtml = 'Like what you see? Visit the ' +\n",
              "            '<a target=\"_blank\" href=https://colab.research.google.com/notebooks/data_table.ipynb>data table notebook</a>'\n",
              "            + ' to learn more about interactive tables.';\n",
              "          element.innerHTML = '';\n",
              "          dataTable['output_type'] = 'display_data';\n",
              "          await google.colab.output.renderOutput(dataTable, element);\n",
              "          const docLink = document.createElement('div');\n",
              "          docLink.innerHTML = docLinkHtml;\n",
              "          element.appendChild(docLink);\n",
              "        }\n",
              "      </script>\n",
              "    </div>\n",
              "  </div>\n",
              "  "
            ]
          },
          "metadata": {},
          "execution_count": 102
        }
      ]
    },
    {
      "cell_type": "code",
      "source": [
        "df.isna().sum()"
      ],
      "metadata": {
        "colab": {
          "base_uri": "https://localhost:8080/"
        },
        "id": "_N7SZZqbqYVg",
        "outputId": "6d2629b4-32ac-4631-d79b-971779b11246"
      },
      "execution_count": 103,
      "outputs": [
        {
          "output_type": "execute_result",
          "data": {
            "text/plain": [
              "Open         0\n",
              "High         0\n",
              "Low          0\n",
              "Close        0\n",
              "Adj Close    0\n",
              "Volume       0\n",
              "Date         0\n",
              "dtype: int64"
            ]
          },
          "metadata": {},
          "execution_count": 103
        }
      ]
    },
    {
      "cell_type": "code",
      "source": [
        "df.duplicated().sum()"
      ],
      "metadata": {
        "colab": {
          "base_uri": "https://localhost:8080/"
        },
        "id": "HIIXvkPVqcW1",
        "outputId": "01d4844a-8413-44f2-a900-a0c83ff3295c"
      },
      "execution_count": 104,
      "outputs": [
        {
          "output_type": "execute_result",
          "data": {
            "text/plain": [
              "0"
            ]
          },
          "metadata": {},
          "execution_count": 104
        }
      ]
    },
    {
      "cell_type": "code",
      "source": [
        "dataset = df.iloc[:,4]"
      ],
      "metadata": {
        "id": "WYaBSTOAqf-o"
      },
      "execution_count": 105,
      "outputs": []
    },
    {
      "cell_type": "code",
      "source": [
        "dataset.head()"
      ],
      "metadata": {
        "colab": {
          "base_uri": "https://localhost:8080/"
        },
        "id": "fYi4vCofqvkK",
        "outputId": "3825879e-57bf-4f8f-af5a-3ee72be1b26d"
      },
      "execution_count": 106,
      "outputs": [
        {
          "output_type": "execute_result",
          "data": {
            "text/plain": [
              "0    2.499133\n",
              "1    2.697639\n",
              "2    2.724787\n",
              "3    2.611960\n",
              "4    2.640104\n",
              "Name: Adj Close, dtype: float64"
            ]
          },
          "metadata": {},
          "execution_count": 106
        }
      ]
    },
    {
      "cell_type": "code",
      "source": [
        "plt.plot(dataset)   # Plotting adj close price "
      ],
      "metadata": {
        "colab": {
          "base_uri": "https://localhost:8080/",
          "height": 447
        },
        "id": "a8h4-XrZ-cIE",
        "outputId": "b3eb437c-48e5-4b44-9685-552cf94b461c"
      },
      "execution_count": 107,
      "outputs": [
        {
          "output_type": "execute_result",
          "data": {
            "text/plain": [
              "[<matplotlib.lines.Line2D at 0x7f29bbcb0f40>]"
            ]
          },
          "metadata": {},
          "execution_count": 107
        },
        {
          "output_type": "display_data",
          "data": {
            "text/plain": [
              "<Figure size 640x480 with 1 Axes>"
            ],
            "image/png": "[encoded data removed]"
          },
          "metadata": {}
        }
      ]
    },
    {
      "cell_type": "code",
      "source": [
        "dataset = np.array(dataset).reshape(-1,1)  ## Reshaping data to 2d"
      ],
      "metadata": {
        "id": "6ruAZ_ahq3sf"
      },
      "execution_count": 108,
      "outputs": []
    },
    {
      "cell_type": "code",
      "source": [
        "mms = MinMaxScaler()            ##Scaling data\n",
        "dataset = mms.fit_transform(dataset)"
      ],
      "metadata": {
        "id": "5zo1LufSujc_"
      },
      "execution_count": 109,
      "outputs": []
    },
    {
      "cell_type": "code",
      "source": [
        "def datagen(data , window):              ## Creating function to make data transformation with respect to look back period\n",
        "  x = [] \n",
        "  y = []\n",
        "  for i in range(len(data)-window):\n",
        "    a = data[i:i+window]\n",
        "    x.append(a)\n",
        "    b = data[i+window]\n",
        "    y.append(b)\n",
        "  return np.array(x),np.array(y)"
      ],
      "metadata": {
        "id": "ZIM7vLqVq6dc"
      },
      "execution_count": 110,
      "outputs": []
    },
    {
      "cell_type": "code",
      "source": [
        "x_new = datagen(dataset , 100)"
      ],
      "metadata": {
        "id": "5vD1DkTEsYWc"
      },
      "execution_count": 111,
      "outputs": []
    },
    {
      "cell_type": "code",
      "source": [
        "x_new"
      ],
      "metadata": {
        "colab": {
          "base_uri": "https://localhost:8080/"
        },
        "id": "-473PVwi_JKM",
        "outputId": "2ef5303a-b4fb-4538-9fae-0cbfb5ab30ef"
      },
      "execution_count": 112,
      "outputs": [
        {
          "output_type": "execute_result",
          "data": {
            "text/plain": [
              "(array([[[5.54601395e-05],\n",
              "         [1.39474256e-03],\n",
              "         [1.57790515e-03],\n",
              "         ...,\n",
              "         [1.48783124e-02],\n",
              "         [1.57689272e-02],\n",
              "         [1.59722564e-02]],\n",
              " \n",
              "        [[1.39474256e-03],\n",
              "         [1.57790515e-03],\n",
              "         [8.16681841e-04],\n",
              "         ...,\n",
              "         [1.57689272e-02],\n",
              "         [1.59722564e-02],\n",
              "         [1.57168354e-02]],\n",
              " \n",
              "        [[1.57790515e-03],\n",
              "         [8.16681841e-04],\n",
              "         [1.00656502e-03],\n",
              "         ...,\n",
              "         [1.59722564e-02],\n",
              "         [1.57168354e-02],\n",
              "         [1.60260275e-02]],\n",
              " \n",
              "        ...,\n",
              " \n",
              "        [[6.59832347e-01],\n",
              "         [6.61451568e-01],\n",
              "         [6.67861073e-01],\n",
              "         ...,\n",
              "         [5.97221913e-01],\n",
              "         [6.01607353e-01],\n",
              "         [6.19081578e-01]],\n",
              " \n",
              "        [[6.61451568e-01],\n",
              "         [6.67861073e-01],\n",
              "         [6.77913813e-01],\n",
              "         ...,\n",
              "         [6.01607353e-01],\n",
              "         [6.19081578e-01],\n",
              "         [6.34599273e-01]],\n",
              " \n",
              "        [[6.67861073e-01],\n",
              "         [6.77913813e-01],\n",
              "         [6.91137564e-01],\n",
              "         ...,\n",
              "         [6.19081578e-01],\n",
              "         [6.34599273e-01],\n",
              "         [6.65094854e-01]]]),\n",
              " array([[0.01571684],\n",
              "        [0.01602603],\n",
              "        [0.01601763],\n",
              "        ...,\n",
              "        [0.63459927],\n",
              "        [0.66509485],\n",
              "        [0.67447292]]))"
            ]
          },
          "metadata": {},
          "execution_count": 112
        }
      ]
    },
    {
      "cell_type": "code",
      "source": [
        "y = x_new[1]       ## output label\n",
        "y.shape"
      ],
      "metadata": {
        "colab": {
          "base_uri": "https://localhost:8080/"
        },
        "id": "ITCYgabtsevk",
        "outputId": "0740e5d4-0903-47bd-c0bb-cc1bf083e658"
      },
      "execution_count": 113,
      "outputs": [
        {
          "output_type": "execute_result",
          "data": {
            "text/plain": [
              "(4577, 1)"
            ]
          },
          "metadata": {},
          "execution_count": 113
        }
      ]
    },
    {
      "cell_type": "code",
      "source": [
        "x = x_new[0]     ## Input features\n",
        "x.shape"
      ],
      "metadata": {
        "colab": {
          "base_uri": "https://localhost:8080/"
        },
        "id": "W7jCYe4qtKFM",
        "outputId": "c7b277c5-6124-4eee-decc-f313e253a432"
      },
      "execution_count": 114,
      "outputs": [
        {
          "output_type": "execute_result",
          "data": {
            "text/plain": [
              "(4577, 100, 1)"
            ]
          },
          "metadata": {},
          "execution_count": 114
        }
      ]
    },
    {
      "cell_type": "code",
      "source": [
        "test_size = int((x.shape[0])*0.4)             ## Splitting data to train and test\n",
        "x_train = x[:(x.shape[0]-test_size)]\n",
        "x_test = x[(x.shape[0]-test_size):]\n",
        "y_train = y[:(x.shape[0]-test_size)]\n",
        "y_test = y[(x.shape[0]-test_size):]"
      ],
      "metadata": {
        "id": "WFmFSXNquVib"
      },
      "execution_count": 115,
      "outputs": []
    },
    {
      "cell_type": "code",
      "source": [
        "print(x_train.shape)\n",
        "print(y_train.shape)"
      ],
      "metadata": {
        "colab": {
          "base_uri": "https://localhost:8080/"
        },
        "id": "SkbZXz9zvryu",
        "outputId": "fb9a41a0-efbb-49b6-82ad-751274cea805"
      },
      "execution_count": 116,
      "outputs": [
        {
          "output_type": "stream",
          "name": "stdout",
          "text": [
            "(2747, 100, 1)\n",
            "(2747, 1)\n"
          ]
        }
      ]
    },
    {
      "cell_type": "code",
      "source": [
        "model = Sequential()                                     ## Building Deep Lstm model\n",
        "model.add(LSTM(80, input_shape = (100,1),return_sequences = True))\n",
        "model.add(LSTM(50,return_sequences = True))\n",
        "model.add(LSTM(50))\n",
        "model.add(Dropout(0.2))\n",
        "model.add(Dense(1))\n",
        "model.compile(optimizer = 'adam',loss = 'mean_squared_error')\n",
        "model.summary()"
      ],
      "metadata": {
        "colab": {
          "base_uri": "https://localhost:8080/"
        },
        "id": "Trn1m6tXwNRG",
        "outputId": "f542e89f-1b77-49bd-e999-dbd1ff884eb8"
      },
      "execution_count": 117,
      "outputs": [
        {
          "output_type": "stream",
          "name": "stdout",
          "text": [
            "Model: \"sequential_7\"\n",
            "_________________________________________________________________\n",
            " Layer (type)                Output Shape              Param #   \n",
            "=================================================================\n",
            " lstm_24 (LSTM)              (None, 100, 80)           26240     \n",
            "                                                                 \n",
            " lstm_25 (LSTM)              (None, 100, 50)           26200     \n",
            "                                                                 \n",
            " lstm_26 (LSTM)              (None, 50)                20200     \n",
            "                                                                 \n",
            " dropout_5 (Dropout)         (None, 50)                0         \n",
            "                                                                 \n",
            " dense_8 (Dense)             (None, 1)                 51        \n",
            "                                                                 \n",
            "=================================================================\n",
            "Total params: 72,691\n",
            "Trainable params: 72,691\n",
            "Non-trainable params: 0\n",
            "_________________________________________________________________\n"
          ]
        }
      ]
    },
    {
      "cell_type": "code",
      "source": [
        "model.fit(x_train, y_train, validation_data = (x_test , y_test) , epochs = 100 , batch_size =60)  ## Fitting data to model"
      ],
      "metadata": {
        "colab": {
          "base_uri": "https://localhost:8080/"
        },
        "id": "EkJewAKdyr8T",
        "outputId": "ae7dd241-8a7c-4e8e-bb9c-647a1e8b0064"
      },
      "execution_count": 118,
      "outputs": [
        {
          "output_type": "stream",
          "name": "stdout",
          "text": [
            "Epoch 1/100\n",
            "46/46 [==============================] - 7s 41ms/step - loss: 0.0010 - val_loss: 0.0021\n",
            "Epoch 2/100\n",
            "46/46 [==============================] - 1s 16ms/step - loss: 1.3421e-04 - val_loss: 7.3027e-04\n",
            "Epoch 3/100\n",
            "46/46 [==============================] - 1s 22ms/step - loss: 1.1467e-04 - val_loss: 0.0014\n",
            "Epoch 4/100\n",
            "46/46 [==============================] - 1s 24ms/step - loss: 9.0789e-05 - val_loss: 0.0011\n",
            "Epoch 5/100\n",
            "46/46 [==============================] - 1s 19ms/step - loss: 8.3808e-05 - val_loss: 0.0011\n",
            "Epoch 6/100\n",
            "46/46 [==============================] - 1s 17ms/step - loss: 8.0877e-05 - val_loss: 8.6961e-04\n",
            "Epoch 7/100\n",
            "46/46 [==============================] - 1s 16ms/step - loss: 8.2932e-05 - val_loss: 7.3903e-04\n",
            "Epoch 8/100\n",
            "46/46 [==============================] - 1s 16ms/step - loss: 7.2831e-05 - val_loss: 0.0011\n",
            "Epoch 9/100\n",
            "46/46 [==============================] - 1s 17ms/step - loss: 7.3710e-05 - val_loss: 6.3619e-04\n",
            "Epoch 10/100\n",
            "46/46 [==============================] - 1s 20ms/step - loss: 7.0970e-05 - val_loss: 9.2544e-04\n",
            "Epoch 11/100\n",
            "46/46 [==============================] - 1s 17ms/step - loss: 6.8559e-05 - val_loss: 6.2619e-04\n",
            "Epoch 12/100\n",
            "46/46 [==============================] - 1s 16ms/step - loss: 6.4251e-05 - val_loss: 5.2269e-04\n",
            "Epoch 13/100\n",
            "46/46 [==============================] - 1s 17ms/step - loss: 5.8289e-05 - val_loss: 0.0014\n",
            "Epoch 14/100\n",
            "46/46 [==============================] - 1s 17ms/step - loss: 5.5596e-05 - val_loss: 0.0015\n",
            "Epoch 15/100\n",
            "46/46 [==============================] - 1s 17ms/step - loss: 5.6304e-05 - val_loss: 0.0021\n",
            "Epoch 16/100\n",
            "46/46 [==============================] - 1s 17ms/step - loss: 5.8692e-05 - val_loss: 7.4659e-04\n",
            "Epoch 17/100\n",
            "46/46 [==============================] - 1s 17ms/step - loss: 5.2047e-05 - val_loss: 7.2275e-04\n",
            "Epoch 18/100\n",
            "46/46 [==============================] - 1s 23ms/step - loss: 5.5809e-05 - val_loss: 0.0024\n",
            "Epoch 19/100\n",
            "46/46 [==============================] - 1s 24ms/step - loss: 5.5157e-05 - val_loss: 6.7220e-04\n",
            "Epoch 20/100\n",
            "46/46 [==============================] - 1s 18ms/step - loss: 5.2474e-05 - val_loss: 0.0011\n",
            "Epoch 21/100\n",
            "46/46 [==============================] - 1s 16ms/step - loss: 5.1027e-05 - val_loss: 5.7414e-04\n",
            "Epoch 22/100\n",
            "46/46 [==============================] - 1s 20ms/step - loss: 4.4432e-05 - val_loss: 7.4335e-04\n",
            "Epoch 23/100\n",
            "46/46 [==============================] - 1s 17ms/step - loss: 4.8645e-05 - val_loss: 8.2522e-04\n",
            "Epoch 24/100\n",
            "46/46 [==============================] - 1s 16ms/step - loss: 4.3743e-05 - val_loss: 4.3401e-04\n",
            "Epoch 25/100\n",
            "46/46 [==============================] - 1s 16ms/step - loss: 3.9665e-05 - val_loss: 4.4137e-04\n",
            "Epoch 26/100\n",
            "46/46 [==============================] - 1s 17ms/step - loss: 4.1008e-05 - val_loss: 9.1451e-04\n",
            "Epoch 27/100\n",
            "46/46 [==============================] - 1s 17ms/step - loss: 3.6472e-05 - val_loss: 0.0015\n",
            "Epoch 28/100\n",
            "46/46 [==============================] - 1s 16ms/step - loss: 3.9723e-05 - val_loss: 4.2338e-04\n",
            "Epoch 29/100\n",
            "46/46 [==============================] - 1s 17ms/step - loss: 3.5649e-05 - val_loss: 5.1493e-04\n",
            "Epoch 30/100\n",
            "46/46 [==============================] - 1s 17ms/step - loss: 3.9765e-05 - val_loss: 4.9299e-04\n",
            "Epoch 31/100\n",
            "46/46 [==============================] - 1s 17ms/step - loss: 3.9154e-05 - val_loss: 0.0013\n",
            "Epoch 32/100\n",
            "46/46 [==============================] - 1s 18ms/step - loss: 3.6259e-05 - val_loss: 3.6391e-04\n",
            "Epoch 33/100\n",
            "46/46 [==============================] - 1s 23ms/step - loss: 3.7757e-05 - val_loss: 3.5859e-04\n",
            "Epoch 34/100\n",
            "46/46 [==============================] - 1s 24ms/step - loss: 3.6254e-05 - val_loss: 6.2809e-04\n",
            "Epoch 35/100\n",
            "46/46 [==============================] - 1s 17ms/step - loss: 3.3200e-05 - val_loss: 3.6636e-04\n",
            "Epoch 36/100\n",
            "46/46 [==============================] - 1s 17ms/step - loss: 3.6729e-05 - val_loss: 4.1481e-04\n",
            "Epoch 37/100\n",
            "46/46 [==============================] - 1s 17ms/step - loss: 3.3097e-05 - val_loss: 4.6698e-04\n",
            "Epoch 38/100\n",
            "46/46 [==============================] - 1s 17ms/step - loss: 3.1219e-05 - val_loss: 3.2446e-04\n",
            "Epoch 39/100\n",
            "46/46 [==============================] - 1s 17ms/step - loss: 3.2927e-05 - val_loss: 6.8238e-04\n",
            "Epoch 40/100\n",
            "46/46 [==============================] - 1s 17ms/step - loss: 3.1807e-05 - val_loss: 5.8035e-04\n",
            "Epoch 41/100\n",
            "46/46 [==============================] - 1s 16ms/step - loss: 3.1663e-05 - val_loss: 4.2711e-04\n",
            "Epoch 42/100\n",
            "46/46 [==============================] - 1s 17ms/step - loss: 3.2905e-05 - val_loss: 5.6767e-04\n",
            "Epoch 43/100\n",
            "46/46 [==============================] - 1s 17ms/step - loss: 3.1833e-05 - val_loss: 3.3733e-04\n",
            "Epoch 44/100\n",
            "46/46 [==============================] - 1s 17ms/step - loss: 3.2623e-05 - val_loss: 3.2934e-04\n",
            "Epoch 45/100\n",
            "46/46 [==============================] - 1s 17ms/step - loss: 3.0468e-05 - val_loss: 3.0285e-04\n",
            "Epoch 46/100\n",
            "46/46 [==============================] - 1s 17ms/step - loss: 2.9068e-05 - val_loss: 4.9170e-04\n",
            "Epoch 47/100\n",
            "46/46 [==============================] - 1s 19ms/step - loss: 3.2500e-05 - val_loss: 3.4749e-04\n",
            "Epoch 48/100\n",
            "46/46 [==============================] - 1s 24ms/step - loss: 2.7365e-05 - val_loss: 2.8765e-04\n",
            "Epoch 49/100\n",
            "46/46 [==============================] - 1s 22ms/step - loss: 2.8652e-05 - val_loss: 2.8091e-04\n",
            "Epoch 50/100\n",
            "46/46 [==============================] - 1s 17ms/step - loss: 3.1855e-05 - val_loss: 6.6353e-04\n",
            "Epoch 51/100\n",
            "46/46 [==============================] - 1s 17ms/step - loss: 3.0082e-05 - val_loss: 7.2857e-04\n",
            "Epoch 52/100\n",
            "46/46 [==============================] - 1s 17ms/step - loss: 2.8544e-05 - val_loss: 2.8273e-04\n",
            "Epoch 53/100\n",
            "46/46 [==============================] - 1s 16ms/step - loss: 2.7711e-05 - val_loss: 3.1137e-04\n",
            "Epoch 54/100\n",
            "46/46 [==============================] - 1s 17ms/step - loss: 2.8484e-05 - val_loss: 3.2372e-04\n",
            "Epoch 55/100\n",
            "46/46 [==============================] - 1s 17ms/step - loss: 2.6176e-05 - val_loss: 9.9554e-04\n",
            "Epoch 56/100\n",
            "46/46 [==============================] - 1s 17ms/step - loss: 2.7765e-05 - val_loss: 7.5619e-04\n",
            "Epoch 57/100\n",
            "46/46 [==============================] - 1s 17ms/step - loss: 2.6547e-05 - val_loss: 3.5412e-04\n",
            "Epoch 58/100\n",
            "46/46 [==============================] - 1s 17ms/step - loss: 2.6854e-05 - val_loss: 2.6859e-04\n",
            "Epoch 59/100\n",
            "46/46 [==============================] - 1s 17ms/step - loss: 3.0091e-05 - val_loss: 3.4955e-04\n",
            "Epoch 60/100\n",
            "46/46 [==============================] - 1s 17ms/step - loss: 3.0082e-05 - val_loss: 2.5603e-04\n",
            "Epoch 61/100\n",
            "46/46 [==============================] - 1s 17ms/step - loss: 2.7828e-05 - val_loss: 5.0575e-04\n",
            "Epoch 62/100\n",
            "46/46 [==============================] - 1s 20ms/step - loss: 2.7367e-05 - val_loss: 5.5566e-04\n",
            "Epoch 63/100\n",
            "46/46 [==============================] - 1s 24ms/step - loss: 2.6106e-05 - val_loss: 3.4265e-04\n",
            "Epoch 64/100\n",
            "46/46 [==============================] - 1s 22ms/step - loss: 2.8399e-05 - val_loss: 2.4860e-04\n",
            "Epoch 65/100\n",
            "46/46 [==============================] - 1s 16ms/step - loss: 2.8717e-05 - val_loss: 3.8133e-04\n",
            "Epoch 66/100\n",
            "46/46 [==============================] - 1s 17ms/step - loss: 2.4604e-05 - val_loss: 2.4339e-04\n",
            "Epoch 67/100\n",
            "46/46 [==============================] - 1s 17ms/step - loss: 2.5886e-05 - val_loss: 4.2147e-04\n",
            "Epoch 68/100\n",
            "46/46 [==============================] - 1s 17ms/step - loss: 2.4812e-05 - val_loss: 2.4010e-04\n",
            "Epoch 69/100\n",
            "46/46 [==============================] - 1s 17ms/step - loss: 2.4061e-05 - val_loss: 2.8824e-04\n",
            "Epoch 70/100\n",
            "46/46 [==============================] - 1s 17ms/step - loss: 2.3357e-05 - val_loss: 2.7095e-04\n",
            "Epoch 71/100\n",
            "46/46 [==============================] - 1s 17ms/step - loss: 2.5323e-05 - val_loss: 2.1885e-04\n",
            "Epoch 72/100\n",
            "46/46 [==============================] - 1s 17ms/step - loss: 2.4534e-05 - val_loss: 2.2585e-04\n",
            "Epoch 73/100\n",
            "46/46 [==============================] - 1s 17ms/step - loss: 2.4817e-05 - val_loss: 2.6681e-04\n",
            "Epoch 74/100\n",
            "46/46 [==============================] - 1s 17ms/step - loss: 2.4793e-05 - val_loss: 2.1474e-04\n",
            "Epoch 75/100\n",
            "46/46 [==============================] - 1s 17ms/step - loss: 2.3826e-05 - val_loss: 2.0672e-04\n",
            "Epoch 76/100\n",
            "46/46 [==============================] - 1s 17ms/step - loss: 2.3476e-05 - val_loss: 2.5138e-04\n",
            "Epoch 77/100\n",
            "46/46 [==============================] - 1s 21ms/step - loss: 2.2532e-05 - val_loss: 3.9757e-04\n",
            "Epoch 78/100\n",
            "46/46 [==============================] - 1s 23ms/step - loss: 2.5819e-05 - val_loss: 2.6088e-04\n",
            "Epoch 79/100\n",
            "46/46 [==============================] - 1s 21ms/step - loss: 2.4041e-05 - val_loss: 3.1031e-04\n",
            "Epoch 80/100\n",
            "46/46 [==============================] - 1s 17ms/step - loss: 2.3162e-05 - val_loss: 2.3379e-04\n",
            "Epoch 81/100\n",
            "46/46 [==============================] - 1s 17ms/step - loss: 2.6966e-05 - val_loss: 2.9262e-04\n",
            "Epoch 82/100\n",
            "46/46 [==============================] - 1s 17ms/step - loss: 2.4475e-05 - val_loss: 2.7787e-04\n",
            "Epoch 83/100\n",
            "46/46 [==============================] - 1s 16ms/step - loss: 2.1852e-05 - val_loss: 2.0349e-04\n",
            "Epoch 84/100\n",
            "46/46 [==============================] - 1s 17ms/step - loss: 2.3968e-05 - val_loss: 4.1309e-04\n",
            "Epoch 85/100\n",
            "46/46 [==============================] - 1s 30ms/step - loss: 2.3165e-05 - val_loss: 2.8871e-04\n",
            "Epoch 86/100\n",
            "46/46 [==============================] - 1s 18ms/step - loss: 2.2719e-05 - val_loss: 2.8881e-04\n",
            "Epoch 87/100\n",
            "46/46 [==============================] - 1s 21ms/step - loss: 2.1367e-05 - val_loss: 1.7550e-04\n",
            "Epoch 88/100\n",
            "46/46 [==============================] - 1s 17ms/step - loss: 2.3094e-05 - val_loss: 1.8802e-04\n",
            "Epoch 89/100\n",
            "46/46 [==============================] - 1s 17ms/step - loss: 2.2492e-05 - val_loss: 2.0567e-04\n",
            "Epoch 90/100\n",
            "46/46 [==============================] - 1s 16ms/step - loss: 2.5823e-05 - val_loss: 2.0568e-04\n",
            "Epoch 91/100\n",
            "46/46 [==============================] - 1s 22ms/step - loss: 2.2167e-05 - val_loss: 2.0064e-04\n",
            "Epoch 92/100\n",
            "46/46 [==============================] - 1s 24ms/step - loss: 2.1635e-05 - val_loss: 3.5985e-04\n",
            "Epoch 93/100\n",
            "46/46 [==============================] - 1s 19ms/step - loss: 2.5616e-05 - val_loss: 3.1454e-04\n",
            "Epoch 94/100\n",
            "46/46 [==============================] - 1s 17ms/step - loss: 2.3793e-05 - val_loss: 3.0011e-04\n",
            "Epoch 95/100\n",
            "46/46 [==============================] - 1s 17ms/step - loss: 2.1893e-05 - val_loss: 2.0675e-04\n",
            "Epoch 96/100\n",
            "46/46 [==============================] - 1s 17ms/step - loss: 2.1842e-05 - val_loss: 4.1948e-04\n",
            "Epoch 97/100\n",
            "46/46 [==============================] - 1s 17ms/step - loss: 2.4188e-05 - val_loss: 7.0013e-04\n",
            "Epoch 98/100\n",
            "46/46 [==============================] - 1s 17ms/step - loss: 3.1086e-05 - val_loss: 2.4771e-04\n",
            "Epoch 99/100\n",
            "46/46 [==============================] - 1s 17ms/step - loss: 2.0475e-05 - val_loss: 4.8957e-04\n",
            "Epoch 100/100\n",
            "46/46 [==============================] - 1s 17ms/step - loss: 2.3348e-05 - val_loss: 1.7611e-04\n"
          ]
        },
        {
          "output_type": "execute_result",
          "data": {
            "text/plain": [
              "<keras.callbacks.History at 0x7f29bbbadea0>"
            ]
          },
          "metadata": {},
          "execution_count": 118
        }
      ]
    },
    {
      "cell_type": "code",
      "source": [
        "train_predict = model.predict(x_train)      ## predicting value for x_train and x_test\n",
        "test_predict = model.predict(x_test)"
      ],
      "metadata": {
        "colab": {
          "base_uri": "https://localhost:8080/"
        },
        "id": "tsVXDQOT4sFS",
        "outputId": "d2cc0e19-3460-45b1-ed34-323653bf32ee"
      },
      "execution_count": 119,
      "outputs": [
        {
          "output_type": "stream",
          "name": "stdout",
          "text": [
            "86/86 [==============================] - 1s 5ms/step\n",
            "58/58 [==============================] - 0s 6ms/step\n"
          ]
        }
      ]
    },
    {
      "cell_type": "code",
      "source": [
        "train_predict = mms.inverse_transform(train_predict)      ## Scaling data back\n",
        "test_predict = mms.inverse_transform(test_predict)"
      ],
      "metadata": {
        "id": "CXGYTOXi4y6l"
      },
      "execution_count": 120,
      "outputs": []
    },
    {
      "cell_type": "code",
      "source": [
        "train_predict"
      ],
      "metadata": {
        "colab": {
          "base_uri": "https://localhost:8080/"
        },
        "id": "H8hxdCTDGVQ8",
        "outputId": "0df74d67-8952-4858-a7c7-d51de619928c"
      },
      "execution_count": 121,
      "outputs": [
        {
          "output_type": "execute_result",
          "data": {
            "text/plain": [
              "array([[ 5.447927 ],\n",
              "       [ 5.4758415],\n",
              "       [ 5.5056987],\n",
              "       ...,\n",
              "       [37.768356 ],\n",
              "       [37.883217 ],\n",
              "       [37.958508 ]], dtype=float32)"
            ]
          },
          "metadata": {},
          "execution_count": 121
        }
      ]
    },
    {
      "cell_type": "code",
      "source": [
        "y_train_sb = mms.inverse_transform(y_train)\n",
        "y_test_sb = mms.inverse_transform(y_test)"
      ],
      "metadata": {
        "id": "fb-OPQk4GdKQ"
      },
      "execution_count": 122,
      "outputs": []
    },
    {
      "cell_type": "code",
      "source": [
        "from sklearn.metrics import mean_squared_error,mean_absolute_error       ## Calculting evaluation matrics\n",
        "print(np.sqrt(mean_squared_error(y_train_sb,train_predict)))\n",
        "print(mean_absolute_error(y_train_sb , train_predict))\n"
      ],
      "metadata": {
        "colab": {
          "base_uri": "https://localhost:8080/"
        },
        "id": "nI_fQVz0BjyK",
        "outputId": "37995c86-f005-4cc7-f615-a1b8fe5779b2"
      },
      "execution_count": 123,
      "outputs": [
        {
          "output_type": "stream",
          "name": "stdout",
          "text": [
            "0.5207199051235782\n",
            "0.4179452440284753\n"
          ]
        }
      ]
    },
    {
      "cell_type": "code",
      "source": [
        "print(np.sqrt(mean_squared_error(y_test_sb,test_predict)))\n",
        "print(mean_absolute_error(y_test_sb,test_predict))"
      ],
      "metadata": {
        "colab": {
          "base_uri": "https://localhost:8080/"
        },
        "id": "DQ-vNKCfDB96",
        "outputId": "d6ad117b-7a68-4263-8a08-f012a49f5da1"
      },
      "execution_count": 124,
      "outputs": [
        {
          "output_type": "stream",
          "name": "stdout",
          "text": [
            "1.9669717184809912\n",
            "1.3639040649914351\n"
          ]
        }
      ]
    },
    {
      "cell_type": "code",
      "source": [
        "plt.plot(y_train_sb)                 ## Line graph to compare train data to prediction on train data\n",
        "plt.plot(train_predict)"
      ],
      "metadata": {
        "colab": {
          "base_uri": "https://localhost:8080/",
          "height": 452
        },
        "id": "vvVnDaUx5bKS",
        "outputId": "7aed5d21-787d-44b6-ee7b-e7452f87df4c"
      },
      "execution_count": 126,
      "outputs": [
        {
          "output_type": "execute_result",
          "data": {
            "text/plain": [
              "[<matplotlib.lines.Line2D at 0x7f298c2de950>]"
            ]
          },
          "metadata": {},
          "execution_count": 126
        },
        {
          "output_type": "display_data",
          "data": {
            "text/plain": [
              "<Figure size 640x480 with 1 Axes>"
            ],
            "image/png": "[encoded data removed]"
          },
          "metadata": {}
        }
      ]
    },
    {
      "cell_type": "code",
      "source": [
        "plt.plot(y_test_sb)              ## line plot to compare test data and prediction on test data\n",
        "plt.plot(test_predict)"
      ],
      "metadata": {
        "colab": {
          "base_uri": "https://localhost:8080/",
          "height": 447
        },
        "id": "ShuvwjuJDS_h",
        "outputId": "1fc09460-4f20-4052-c549-aeb80f53fa77"
      },
      "execution_count": 127,
      "outputs": [
        {
          "output_type": "execute_result",
          "data": {
            "text/plain": [
              "[<matplotlib.lines.Line2D at 0x7f298c136e90>]"
            ]
          },
          "metadata": {},
          "execution_count": 127
        },
        {
          "output_type": "display_data",
          "data": {
            "text/plain": [
              "<Figure size 640x480 with 1 Axes>"
            ],
            "image/png": "[encoded data removed]"
          },
          "metadata": {}
        }
      ]
    },
    {
      "cell_type": "code",
      "source": [
        "model2 = Sequential()"
      ],
      "metadata": {
        "id": "Q_8HYKzXJscw"
      },
      "execution_count": 128,
      "outputs": []
    },
    {
      "cell_type": "code",
      "source": [
        "## Building Deep Bidirectional Lstm model\n",
        "model2.add(Bidirectional(LSTM(80, input_shape = (100,1),return_sequences = True)))\n",
        "model2.add(Bidirectional(LSTM(50,return_sequences = True)))\n",
        "model2.add(Bidirectional(LSTM(50)))\n",
        "model2.add(Dropout(0.2))\n",
        "model2.add(Dense(1))\n",
        "model2.compile(optimizer = 'adam',loss = 'mean_squared_error')"
      ],
      "metadata": {
        "id": "1Qj5HTUpEqSM"
      },
      "execution_count": 129,
      "outputs": []
    },
    {
      "cell_type": "code",
      "source": [
        "model.summary()"
      ],
      "metadata": {
        "colab": {
          "base_uri": "https://localhost:8080/"
        },
        "id": "MdjsaQ1dJgFx",
        "outputId": "353e0459-abd5-44cc-b67b-6b4a85444ce0"
      },
      "execution_count": 99,
      "outputs": [
        {
          "output_type": "stream",
          "name": "stdout",
          "text": [
            "Model: \"sequential_3\"\n",
            "_________________________________________________________________\n",
            " Layer (type)                Output Shape              Param #   \n",
            "=================================================================\n",
            " lstm_9 (LSTM)               (None, 100, 80)           26240     \n",
            "                                                                 \n",
            " lstm_10 (LSTM)              (None, 100, 50)           26200     \n",
            "                                                                 \n",
            " lstm_11 (LSTM)              (None, 50)                20200     \n",
            "                                                                 \n",
            " dropout (Dropout)           (None, 50)                0         \n",
            "                                                                 \n",
            " dense_3 (Dense)             (None, 1)                 51        \n",
            "                                                                 \n",
            "=================================================================\n",
            "Total params: 72,691\n",
            "Trainable params: 72,691\n",
            "Non-trainable params: 0\n",
            "_________________________________________________________________\n"
          ]
        }
      ]
    },
    {
      "cell_type": "code",
      "source": [
        "model2.fit(x_train , y_train , validation_data = (x_test , y_test),epochs =100 , batch_size =60)"
      ],
      "metadata": {
        "colab": {
          "base_uri": "https://localhost:8080/"
        },
        "id": "ns8TWtiFJ4_2",
        "outputId": "e5c2137b-b7e4-4363-f5b1-a9ecce456d9a"
      },
      "execution_count": 133,
      "outputs": [
        {
          "output_type": "stream",
          "name": "stdout",
          "text": [
            "Epoch 1/100\n",
            "46/46 [==============================] - 16s 76ms/step - loss: 7.4283e-04 - val_loss: 0.0023\n",
            "Epoch 2/100\n",
            "46/46 [==============================] - 1s 30ms/step - loss: 1.1934e-04 - val_loss: 0.0015\n",
            "Epoch 3/100\n",
            "46/46 [==============================] - 1s 30ms/step - loss: 7.7876e-05 - val_loss: 0.0011\n",
            "Epoch 4/100\n",
            "46/46 [==============================] - 1s 30ms/step - loss: 7.1746e-05 - val_loss: 0.0016\n",
            "Epoch 5/100\n",
            "46/46 [==============================] - 2s 37ms/step - loss: 5.9308e-05 - val_loss: 8.1494e-04\n",
            "Epoch 6/100\n",
            "46/46 [==============================] - 2s 37ms/step - loss: 5.7420e-05 - val_loss: 6.3780e-04\n",
            "Epoch 7/100\n",
            "46/46 [==============================] - 1s 30ms/step - loss: 5.7300e-05 - val_loss: 0.0012\n",
            "Epoch 8/100\n",
            "46/46 [==============================] - 1s 30ms/step - loss: 5.9157e-05 - val_loss: 0.0013\n",
            "Epoch 9/100\n",
            "46/46 [==============================] - 1s 32ms/step - loss: 5.1866e-05 - val_loss: 5.5964e-04\n",
            "Epoch 10/100\n",
            "46/46 [==============================] - 1s 30ms/step - loss: 5.4904e-05 - val_loss: 4.1809e-04\n",
            "Epoch 11/100\n",
            "46/46 [==============================] - 1s 30ms/step - loss: 4.9358e-05 - val_loss: 4.7042e-04\n",
            "Epoch 12/100\n",
            "46/46 [==============================] - 1s 29ms/step - loss: 4.7941e-05 - val_loss: 3.9419e-04\n",
            "Epoch 13/100\n",
            "46/46 [==============================] - 2s 33ms/step - loss: 4.3611e-05 - val_loss: 0.0011\n",
            "Epoch 14/100\n",
            "46/46 [==============================] - 2s 41ms/step - loss: 5.9104e-05 - val_loss: 6.0551e-04\n",
            "Epoch 15/100\n",
            "46/46 [==============================] - 1s 30ms/step - loss: 4.0835e-05 - val_loss: 3.3370e-04\n",
            "Epoch 16/100\n",
            "46/46 [==============================] - 1s 30ms/step - loss: 4.5857e-05 - val_loss: 4.8680e-04\n",
            "Epoch 17/100\n",
            "46/46 [==============================] - 1s 30ms/step - loss: 4.7690e-05 - val_loss: 9.5409e-04\n",
            "Epoch 18/100\n",
            "46/46 [==============================] - 2s 38ms/step - loss: 4.1627e-05 - val_loss: 3.4721e-04\n",
            "Epoch 19/100\n",
            "46/46 [==============================] - 1s 30ms/step - loss: 4.0554e-05 - val_loss: 0.0013\n",
            "Epoch 20/100\n",
            "46/46 [==============================] - 1s 30ms/step - loss: 3.9863e-05 - val_loss: 3.3320e-04\n",
            "Epoch 21/100\n",
            "46/46 [==============================] - 2s 46ms/step - loss: 3.8475e-05 - val_loss: 3.8236e-04\n",
            "Epoch 22/100\n",
            "46/46 [==============================] - 2s 52ms/step - loss: 3.6516e-05 - val_loss: 4.5052e-04\n",
            "Epoch 23/100\n",
            "46/46 [==============================] - 2s 37ms/step - loss: 3.8251e-05 - val_loss: 0.0011\n",
            "Epoch 24/100\n",
            "46/46 [==============================] - 2s 33ms/step - loss: 3.9139e-05 - val_loss: 3.2133e-04\n",
            "Epoch 25/100\n",
            "46/46 [==============================] - 2s 52ms/step - loss: 4.3821e-05 - val_loss: 8.0883e-04\n",
            "Epoch 26/100\n",
            "46/46 [==============================] - 2s 40ms/step - loss: 3.7276e-05 - val_loss: 3.7273e-04\n",
            "Epoch 27/100\n",
            "46/46 [==============================] - 2s 42ms/step - loss: 3.4621e-05 - val_loss: 2.9187e-04\n",
            "Epoch 28/100\n",
            "46/46 [==============================] - 3s 55ms/step - loss: 3.5255e-05 - val_loss: 3.4670e-04\n",
            "Epoch 29/100\n",
            "46/46 [==============================] - 2s 34ms/step - loss: 3.0885e-05 - val_loss: 3.5495e-04\n",
            "Epoch 30/100\n",
            "46/46 [==============================] - 1s 30ms/step - loss: 3.7363e-05 - val_loss: 4.0940e-04\n",
            "Epoch 31/100\n",
            "46/46 [==============================] - 1s 30ms/step - loss: 2.9086e-05 - val_loss: 4.0666e-04\n",
            "Epoch 32/100\n",
            "46/46 [==============================] - 1s 30ms/step - loss: 3.1658e-05 - val_loss: 4.6228e-04\n",
            "Epoch 33/100\n",
            "46/46 [==============================] - 1s 30ms/step - loss: 3.1067e-05 - val_loss: 3.0868e-04\n",
            "Epoch 34/100\n",
            "46/46 [==============================] - 1s 30ms/step - loss: 3.8338e-05 - val_loss: 2.9126e-04\n",
            "Epoch 35/100\n",
            "46/46 [==============================] - 1s 33ms/step - loss: 2.7096e-05 - val_loss: 0.0012\n",
            "Epoch 36/100\n",
            "46/46 [==============================] - 2s 42ms/step - loss: 3.2114e-05 - val_loss: 6.3525e-04\n",
            "Epoch 37/100\n",
            "46/46 [==============================] - 1s 29ms/step - loss: 3.1196e-05 - val_loss: 4.5087e-04\n",
            "Epoch 38/100\n",
            "46/46 [==============================] - 1s 30ms/step - loss: 2.8131e-05 - val_loss: 9.9184e-04\n",
            "Epoch 39/100\n",
            "46/46 [==============================] - 2s 37ms/step - loss: 2.7255e-05 - val_loss: 2.9761e-04\n",
            "Epoch 40/100\n",
            "46/46 [==============================] - 1s 30ms/step - loss: 2.5866e-05 - val_loss: 4.2831e-04\n",
            "Epoch 41/100\n",
            "46/46 [==============================] - 1s 30ms/step - loss: 2.6040e-05 - val_loss: 5.6377e-04\n",
            "Epoch 42/100\n",
            "46/46 [==============================] - 1s 30ms/step - loss: 2.6649e-05 - val_loss: 3.7149e-04\n",
            "Epoch 43/100\n",
            "46/46 [==============================] - 1s 31ms/step - loss: 2.4283e-05 - val_loss: 7.2855e-04\n",
            "Epoch 44/100\n",
            "46/46 [==============================] - 3s 69ms/step - loss: 2.7546e-05 - val_loss: 8.6261e-04\n",
            "Epoch 45/100\n",
            "46/46 [==============================] - 1s 30ms/step - loss: 2.3321e-05 - val_loss: 4.1652e-04\n",
            "Epoch 46/100\n",
            "46/46 [==============================] - 1s 31ms/step - loss: 2.9570e-05 - val_loss: 8.7719e-04\n",
            "Epoch 47/100\n",
            "46/46 [==============================] - 1s 30ms/step - loss: 2.4606e-05 - val_loss: 2.9574e-04\n",
            "Epoch 48/100\n",
            "46/46 [==============================] - 1s 30ms/step - loss: 2.6689e-05 - val_loss: 0.0016\n",
            "Epoch 49/100\n",
            "46/46 [==============================] - 2s 44ms/step - loss: 2.6554e-05 - val_loss: 4.2798e-04\n",
            "Epoch 50/100\n",
            "46/46 [==============================] - 2s 33ms/step - loss: 2.6093e-05 - val_loss: 2.2696e-04\n",
            "Epoch 51/100\n",
            "46/46 [==============================] - 3s 68ms/step - loss: 2.7337e-05 - val_loss: 9.2032e-04\n",
            "Epoch 52/100\n",
            "46/46 [==============================] - 2s 46ms/step - loss: 2.3734e-05 - val_loss: 2.2750e-04\n",
            "Epoch 53/100\n",
            "46/46 [==============================] - 2s 40ms/step - loss: 2.4143e-05 - val_loss: 3.4745e-04\n",
            "Epoch 54/100\n",
            "46/46 [==============================] - 2s 40ms/step - loss: 2.3839e-05 - val_loss: 2.7715e-04\n",
            "Epoch 55/100\n",
            "46/46 [==============================] - 2s 39ms/step - loss: 2.5637e-05 - val_loss: 5.0731e-04\n",
            "Epoch 56/100\n",
            "46/46 [==============================] - 3s 56ms/step - loss: 2.2601e-05 - val_loss: 2.3636e-04\n",
            "Epoch 57/100\n",
            "46/46 [==============================] - 4s 78ms/step - loss: 2.7954e-05 - val_loss: 3.0023e-04\n",
            "Epoch 58/100\n",
            "46/46 [==============================] - 2s 40ms/step - loss: 2.3185e-05 - val_loss: 3.1093e-04\n",
            "Epoch 59/100\n",
            "46/46 [==============================] - 2s 39ms/step - loss: 2.2836e-05 - val_loss: 3.3528e-04\n",
            "Epoch 60/100\n",
            "46/46 [==============================] - 2s 39ms/step - loss: 2.2672e-05 - val_loss: 2.3221e-04\n",
            "Epoch 61/100\n",
            "46/46 [==============================] - 3s 58ms/step - loss: 2.1694e-05 - val_loss: 2.1750e-04\n",
            "Epoch 62/100\n",
            "46/46 [==============================] - 2s 45ms/step - loss: 2.2108e-05 - val_loss: 0.0011\n",
            "Epoch 63/100\n",
            "46/46 [==============================] - 2s 36ms/step - loss: 2.9213e-05 - val_loss: 8.7944e-04\n",
            "Epoch 64/100\n",
            "46/46 [==============================] - 1s 30ms/step - loss: 2.7778e-05 - val_loss: 4.4109e-04\n",
            "Epoch 65/100\n",
            "46/46 [==============================] - 1s 30ms/step - loss: 2.1236e-05 - val_loss: 2.0607e-04\n",
            "Epoch 66/100\n",
            "46/46 [==============================] - 1s 30ms/step - loss: 2.2406e-05 - val_loss: 3.4113e-04\n",
            "Epoch 67/100\n",
            "46/46 [==============================] - 1s 31ms/step - loss: 2.0311e-05 - val_loss: 2.0922e-04\n",
            "Epoch 68/100\n",
            "46/46 [==============================] - 1s 31ms/step - loss: 2.4284e-05 - val_loss: 2.0191e-04\n",
            "Epoch 69/100\n",
            "46/46 [==============================] - 1s 30ms/step - loss: 2.1832e-05 - val_loss: 2.5012e-04\n",
            "Epoch 70/100\n",
            "46/46 [==============================] - 2s 33ms/step - loss: 2.1623e-05 - val_loss: 5.7834e-04\n",
            "Epoch 71/100\n",
            "46/46 [==============================] - 2s 41ms/step - loss: 2.3126e-05 - val_loss: 2.0671e-04\n",
            "Epoch 72/100\n",
            "46/46 [==============================] - 1s 30ms/step - loss: 2.2887e-05 - val_loss: 2.7628e-04\n",
            "Epoch 73/100\n",
            "46/46 [==============================] - 1s 30ms/step - loss: 2.0377e-05 - val_loss: 2.1241e-04\n",
            "Epoch 74/100\n",
            "46/46 [==============================] - 1s 30ms/step - loss: 2.0203e-05 - val_loss: 3.2722e-04\n",
            "Epoch 75/100\n",
            "46/46 [==============================] - 2s 40ms/step - loss: 2.1707e-05 - val_loss: 2.0105e-04\n",
            "Epoch 76/100\n",
            "46/46 [==============================] - 2s 50ms/step - loss: 2.5546e-05 - val_loss: 5.1210e-04\n",
            "Epoch 77/100\n",
            "46/46 [==============================] - 2s 41ms/step - loss: 2.2331e-05 - val_loss: 1.9230e-04\n",
            "Epoch 78/100\n",
            "46/46 [==============================] - 3s 58ms/step - loss: 2.2842e-05 - val_loss: 2.2536e-04\n",
            "Epoch 79/100\n",
            "46/46 [==============================] - 2s 45ms/step - loss: 1.9583e-05 - val_loss: 2.8349e-04\n",
            "Epoch 80/100\n",
            "46/46 [==============================] - 2s 41ms/step - loss: 2.2841e-05 - val_loss: 4.8442e-04\n",
            "Epoch 81/100\n",
            "46/46 [==============================] - 2s 49ms/step - loss: 2.1589e-05 - val_loss: 1.9863e-04\n",
            "Epoch 82/100\n",
            "46/46 [==============================] - 1s 30ms/step - loss: 2.0095e-05 - val_loss: 2.9430e-04\n",
            "Epoch 83/100\n",
            "46/46 [==============================] - 1s 30ms/step - loss: 2.2318e-05 - val_loss: 2.2659e-04\n",
            "Epoch 84/100\n",
            "46/46 [==============================] - 2s 36ms/step - loss: 2.0061e-05 - val_loss: 5.6450e-04\n",
            "Epoch 85/100\n",
            "46/46 [==============================] - 2s 38ms/step - loss: 2.3074e-05 - val_loss: 3.1636e-04\n",
            "Epoch 86/100\n",
            "46/46 [==============================] - 1s 30ms/step - loss: 2.1883e-05 - val_loss: 1.7930e-04\n",
            "Epoch 87/100\n",
            "46/46 [==============================] - 1s 30ms/step - loss: 2.0236e-05 - val_loss: 2.0677e-04\n",
            "Epoch 88/100\n",
            "46/46 [==============================] - 1s 30ms/step - loss: 2.2997e-05 - val_loss: 1.8876e-04\n",
            "Epoch 89/100\n",
            "46/46 [==============================] - 1s 31ms/step - loss: 2.1476e-05 - val_loss: 6.3357e-04\n",
            "Epoch 90/100\n",
            "46/46 [==============================] - 1s 30ms/step - loss: 2.2489e-05 - val_loss: 7.3254e-04\n",
            "Epoch 91/100\n",
            "46/46 [==============================] - 1s 30ms/step - loss: 2.2364e-05 - val_loss: 4.4428e-04\n",
            "Epoch 92/100\n",
            "46/46 [==============================] - 2s 37ms/step - loss: 2.1360e-05 - val_loss: 2.2517e-04\n",
            "Epoch 93/100\n",
            "46/46 [==============================] - 2s 41ms/step - loss: 1.9707e-05 - val_loss: 2.3241e-04\n",
            "Epoch 94/100\n",
            "46/46 [==============================] - 1s 30ms/step - loss: 1.9757e-05 - val_loss: 2.7822e-04\n",
            "Epoch 95/100\n",
            "46/46 [==============================] - 1s 31ms/step - loss: 2.0294e-05 - val_loss: 1.8867e-04\n",
            "Epoch 96/100\n",
            "46/46 [==============================] - 1s 30ms/step - loss: 2.0280e-05 - val_loss: 4.9800e-04\n",
            "Epoch 97/100\n",
            "46/46 [==============================] - 1s 31ms/step - loss: 2.5503e-05 - val_loss: 5.9329e-04\n",
            "Epoch 98/100\n",
            "46/46 [==============================] - 1s 30ms/step - loss: 2.1087e-05 - val_loss: 9.0917e-04\n",
            "Epoch 99/100\n",
            "46/46 [==============================] - 1s 30ms/step - loss: 2.1927e-05 - val_loss: 2.3494e-04\n",
            "Epoch 100/100\n",
            "46/46 [==============================] - 1s 30ms/step - loss: 2.3082e-05 - val_loss: 2.8972e-04\n"
          ]
        },
        {
          "output_type": "execute_result",
          "data": {
            "text/plain": [
              "<keras.callbacks.History at 0x7f298c1e0160>"
            ]
          },
          "metadata": {},
          "execution_count": 133
        }
      ]
    },
    {
      "cell_type": "code",
      "source": [
        "train_predict_model2 = model.predict(x_train)      ## predicting value for x_train and x_test\n",
        "test_predict_model2 = model.predict(x_test)"
      ],
      "metadata": {
        "colab": {
          "base_uri": "https://localhost:8080/"
        },
        "id": "SLuwqBfMKzYs",
        "outputId": "574617bd-0659-4da0-f927-dce1c6b1f911"
      },
      "execution_count": 134,
      "outputs": [
        {
          "output_type": "stream",
          "name": "stdout",
          "text": [
            "86/86 [==============================] - 1s 7ms/step\n",
            "58/58 [==============================] - 0s 5ms/step\n"
          ]
        }
      ]
    },
    {
      "cell_type": "code",
      "source": [
        "train_predict_model2 = mms.inverse_transform(train_predict_model2)      ## Scaling data back\n",
        "test_predict_model2 = mms.inverse_transform(test_predict_model2)"
      ],
      "metadata": {
        "id": "8YURgxXhLySE"
      },
      "execution_count": 135,
      "outputs": []
    },
    {
      "cell_type": "code",
      "source": [
        "y_train_sb_model2 = mms.inverse_transform(y_train)\n",
        "y_test_sb_model2 = mms.inverse_transform(y_test)"
      ],
      "metadata": {
        "id": "6pIaRlwQL-Ne"
      },
      "execution_count": 136,
      "outputs": []
    },
    {
      "cell_type": "code",
      "source": [
        "print(np.sqrt(mean_squared_error(y_train_sb_model2,train_predict_model2)))        ## Calculating evalution metrics\n",
        "print(mean_absolute_error(y_train_sb_model2,train_predict_model2))"
      ],
      "metadata": {
        "colab": {
          "base_uri": "https://localhost:8080/"
        },
        "id": "83F4BMYNMIi3",
        "outputId": "9244215b-0b1e-4769-b55b-6bf1d94e56b6"
      },
      "execution_count": 137,
      "outputs": [
        {
          "output_type": "stream",
          "name": "stdout",
          "text": [
            "0.5207199051235782\n",
            "0.4179452440284753\n"
          ]
        }
      ]
    },
    {
      "cell_type": "code",
      "source": [
        "print(np.sqrt(mean_squared_error(y_test_sb_model2,test_predict_model2)))\n",
        "print(mean_absolute_error(y_test_sb_model2,test_predict_model2))"
      ],
      "metadata": {
        "colab": {
          "base_uri": "https://localhost:8080/"
        },
        "id": "eH_aFwCOMJfm",
        "outputId": "93bd6de7-050a-4c20-e483-c2f028185979"
      },
      "execution_count": 138,
      "outputs": [
        {
          "output_type": "stream",
          "name": "stdout",
          "text": [
            "1.9669717184809912\n",
            "1.3639040649914351\n"
          ]
        }
      ]
    },
    {
      "cell_type": "code",
      "source": [
        "plt.plot(y_train_sb_model2)                 ## line plot to compare train data and prediction on train data\n",
        "plt.plot(train_predict_model2)"
      ],
      "metadata": {
        "colab": {
          "base_uri": "https://localhost:8080/",
          "height": 452
        },
        "id": "JpEpkk1WMjYL",
        "outputId": "cd471a10-809f-4411-ab20-fb6ff93f360d"
      },
      "execution_count": 140,
      "outputs": [
        {
          "output_type": "execute_result",
          "data": {
            "text/plain": [
              "[<matplotlib.lines.Line2D at 0x7f296c6bf8e0>]"
            ]
          },
          "metadata": {},
          "execution_count": 140
        },
        {
          "output_type": "display_data",
          "data": {
            "text/plain": [
              "<Figure size 640x480 with 1 Axes>"
            ],
            "image/png": "[encoded data removed]"
          },
          "metadata": {}
        }
      ]
    },
    {
      "cell_type": "code",
      "source": [
        "plt.plot(y_test_sb_model2)                ## line plot to compare test data and prediction on test data\n",
        "plt.plot(test_predict_model2)"
      ],
      "metadata": {
        "colab": {
          "base_uri": "https://localhost:8080/",
          "height": 447
        },
        "id": "qsD4DZcWM1uM",
        "outputId": "a2597904-82d9-4b3d-f461-8fa8693a280d"
      },
      "execution_count": 141,
      "outputs": [
        {
          "output_type": "execute_result",
          "data": {
            "text/plain": [
              "[<matplotlib.lines.Line2D at 0x7f296c64b610>]"
            ]
          },
          "metadata": {},
          "execution_count": 141
        },
        {
          "output_type": "display_data",
          "data": {
            "text/plain": [
              "<Figure size 640x480 with 1 Axes>"
            ],
            "image/png": "[encoded data removed]"
          },
          "metadata": {}
        }
      ]
    },
    {
      "cell_type": "code",
      "source": [
        "## Importing model to dump"
      ],
      "metadata": {
        "id": "mYvfYPxPM-iq"
      },
      "execution_count": 142,
      "outputs": []
    },
    {
      "cell_type": "code",
      "source": [
        "import pickle"
      ],
      "metadata": {
        "id": "tsYtzsLOOO_F"
      },
      "execution_count": 143,
      "outputs": []
    },
    {
      "cell_type": "code",
      "source": [
        "with open('model_lstm.pkl','wb') as file:\n",
        "  pickle.dump(model,file)\n",
        "with open('model_bidirectional_lstm.pkl','wb') as file:\n",
        "  pickle.dump(model,file)"
      ],
      "metadata": {
        "id": "EAB1sLP5OBbG"
      },
      "execution_count": 144,
      "outputs": []
    },
    {
      "cell_type": "code",
      "source": [],
      "metadata": {
        "id": "qAYcK6pbOXvo"
      },
      "execution_count": null,
      "outputs": []
    }
  ]
}